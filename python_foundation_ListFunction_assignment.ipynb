{
 "cells": [
  {
   "cell_type": "markdown",
   "id": "b9271477-aed0-460f-a1b2-eb84181888d7",
   "metadata": {},
   "source": [
    "# ANSWER 1\n",
    "add an element to a list using the append() method or the + operator\n",
    "## list_name.append(element)\n",
    "## OR\n",
    "## list_name = list_name + [element]"
   ]
  },
  {
   "cell_type": "markdown",
   "id": "ea636fd7-9df4-402b-b745-cc06d71cbe3e",
   "metadata": {},
   "source": [
    "# ANSWER 2 \n",
    "remove(): The remove() function is used to remove the first occurrence of a specified value from the list. It takes the value to be removed as an argument and modifies the list in-place. If the value is found in the list, it is removed, and the list is updated. If the value is not present in the list, a ValueError is raised. The remove() function does not return the removed \n",
    "value.\n",
    "\n",
    "Pop(): The pop() function is used to remove an element from a list based on its index. It takes the index of the element to be removed as an argument and returns the removed value. If no index is specified, the pop() function by default removes and returns the last element of the list. The list is modified in-place."
   ]
  },
  {
   "cell_type": "code",
   "execution_count": 6,
   "id": "2555f2a5-1c01-427e-86eb-95a5db6b5f9d",
   "metadata": {},
   "outputs": [
    {
     "name": "stdout",
     "output_type": "stream",
     "text": [
      "[1, 3, 2, 4]\n"
     ]
    }
   ],
   "source": [
    "# ANSWER 2 CONTINUE example of remove\n",
    "my_list = [1, 2, 3, 2, 4]\n",
    "my_list.remove(2)\n",
    "print(my_list) "
   ]
  },
  {
   "cell_type": "code",
   "execution_count": 2,
   "id": "91383177-a8e0-416c-b15a-8419e0f98316",
   "metadata": {},
   "outputs": [
    {
     "name": "stdout",
     "output_type": "stream",
     "text": [
      "2\n",
      "[1, 3, 4]\n"
     ]
    }
   ],
   "source": [
    "# ANSWER 2 CONTINUE EXAMPLE OF POP\n",
    "my_list = [1, 2, 3, 4]\n",
    "removed_value = my_list.pop(1)  \n",
    "print(removed_value) \n",
    "print(my_list)  "
   ]
  },
  {
   "cell_type": "code",
   "execution_count": 15,
   "id": "14accbbe-a771-4f70-9a4a-c697746bd187",
   "metadata": {},
   "outputs": [
    {
     "name": "stdout",
     "output_type": "stream",
     "text": [
      "sorting a list in descending order :  [7852, 753, 554, 333, 285, 159, 123, 119, 89, 88, 84, 78, 77, 62, 59, 57, 55, 53, 51, 46, 45, 22, 21, 14, 12, 11, 3, 1]\n"
     ]
    }
   ],
   "source": [
    "#                                          ANSWER 3\n",
    "List = [88,55,11,333,7852,119,77,554,285,123,753,159,84,62,14,51,53,59,57,12,89,78,45,46,1,21,3,22]\n",
    "List.sort(reverse = True)\n",
    "print(\"sorting a list in descending order : \",List )"
   ]
  },
  {
   "cell_type": "code",
   "execution_count": 18,
   "id": "cb17555a-956d-42bd-b2f3-0db4f2f1c63e",
   "metadata": {},
   "outputs": [
    {
     "name": "stdout",
     "output_type": "stream",
     "text": [
      "Counting the occurance of animal name Tiger in given list :  7\n"
     ]
    }
   ],
   "source": [
    "#                                        ANSWER 4\n",
    "list_animal = [\"Donkey\",\"Tiger\",\"Panther\",\"Leopard\",\"Cheetah\",\"Elephant\",\"Tiger\",\"Polar\",\"bear\",\"Tiger\",\"Tiger\",\"Turtle\",\"Crocodile\"\"Tiger\",\"Panther\",\"Leopard\",\"Tiger\",\"Panther\",\"Tiger\",\"Leopard\",\"Tiger\"]\n",
    "count = list_animal.count(\"Tiger\")\n",
    "print(\"Counting the occurance of animal name Tiger in given list : \" , count)"
   ]
  },
  {
   "cell_type": "code",
   "execution_count": 23,
   "id": "3188da0e-95bb-41e3-b0cd-da6fcc3bb157",
   "metadata": {},
   "outputs": [
    {
     "name": "stdout",
     "output_type": "stream",
     "text": [
      "[51, 67, (5+2j), 'Siya', 'KGF Chapter 2', 'Baahubali 2 ', 'Pathaan', 6, 5, 4, 3, 2, 1]\n"
     ]
    }
   ],
   "source": [
    "#                                       ANSWER 5 \n",
    "LIST =  [1,2,3,4,5,6,\"Pathaan\" , \"Baahubali 2 \" , \"KGF Chapter 2\" ,'Siya', (5+2j), 67, 51]\n",
    "LIST.reverse()\n",
    "print(LIST)"
   ]
  },
  {
   "cell_type": "code",
   "execution_count": null,
   "id": "a0aaa3ce-da0e-469a-9c29-895afc215e97",
   "metadata": {},
   "outputs": [],
   "source": []
  }
 ],
 "metadata": {
  "kernelspec": {
   "display_name": "Python 3 (ipykernel)",
   "language": "python",
   "name": "python3"
  },
  "language_info": {
   "codemirror_mode": {
    "name": "ipython",
    "version": 3
   },
   "file_extension": ".py",
   "mimetype": "text/x-python",
   "name": "python",
   "nbconvert_exporter": "python",
   "pygments_lexer": "ipython3",
   "version": "3.10.6"
  }
 },
 "nbformat": 4,
 "nbformat_minor": 5
}
